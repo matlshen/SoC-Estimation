{
 "cells": [
  {
   "cell_type": "code",
   "execution_count": 1,
   "metadata": {},
   "outputs": [],
   "source": [
    "import numpy as np\n",
    "from EKF_Estimator import CellEKF"
   ]
  },
  {
   "cell_type": "code",
   "execution_count": 6,
   "metadata": {},
   "outputs": [
    {
     "name": "stdout",
     "output_type": "stream",
     "text": [
      "a priori estimate: -0.10, -369.50, 0.00\n",
      "Estimated State: -0.10, -0.00, 0.00\n",
      "a priori estimate: 0.10, -0.45, 0.00\n",
      "Estimated State: -0.13, -0.27, 0.12\n",
      "a priori estimate: 0.04, 27.28, 0.00\n",
      "Estimated State: 0.04, -0.10, 0.00\n"
     ]
    }
   ],
   "source": [
    "dt = 1  # Sample time in seconds\n",
    "C_Ah = 5  # Battery capacity in Ah\n",
    "Rs = 0.001\n",
    "Cp = 1\n",
    "Rp = 0.01\n",
    "Q = np.eye(3) * 0.01  # Process noise covariance matrix\n",
    "R = np.array([[0.1]])  # Measurement noise covariance\n",
    "\n",
    "ekf = CellEKF(dt, C_Ah, Rs, Cp, Rp, Q, R)\n",
    "ekf.set_initial_state(0.5, 3.7, 0.002)\n",
    "\n",
    "# Simulate some data\n",
    "currents = np.array([-0.5, -0.5, -0.2])  # Example currents\n",
    "measurements = np.array([3.7, 3.8, 3.8])  # Example voltage measurements\n",
    "\n",
    "for i, Vt in zip(currents, measurements):\n",
    "    ekf.predict(i)\n",
    "    print(\"a priori estimate:\", \", \".join(f\"{val:.2f}\" for val in ekf.x_hat.flatten()))\n",
    "    ekf.correct(Vt, i)\n",
    "    print(\"Estimated State:\", \", \".join(f\"{val:.2f}\" for val in ekf.x_hat.flatten()))\n"
   ]
  },
  {
   "cell_type": "code",
   "execution_count": null,
   "metadata": {},
   "outputs": [],
   "source": []
  }
 ],
 "metadata": {
  "kernelspec": {
   "display_name": "Python 3",
   "language": "python",
   "name": "python3"
  },
  "language_info": {
   "codemirror_mode": {
    "name": "ipython",
    "version": 3
   },
   "file_extension": ".py",
   "mimetype": "text/x-python",
   "name": "python",
   "nbconvert_exporter": "python",
   "pygments_lexer": "ipython3",
   "version": "3.10.12"
  }
 },
 "nbformat": 4,
 "nbformat_minor": 2
}
